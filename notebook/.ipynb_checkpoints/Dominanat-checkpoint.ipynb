{
 "cells": [
  {
   "cell_type": "code",
   "execution_count": 1,
   "id": "9b02a913",
   "metadata": {},
   "outputs": [],
   "source": [
    "import pandas as pd\n",
    "import numpy as np \n",
    "from PIL import Image \n",
    "import matplotlib.pyplot as plt\n",
    "from matplotlib.patches import Rectangle\n",
    "\n",
    "from sklearn.cluster import KMeans\n",
    "from sklearn.preprocessing import MinMaxScaler"
   ]
  },
  {
   "cell_type": "code",
   "execution_count": 2,
   "id": "60b61d17",
   "metadata": {},
   "outputs": [],
   "source": [
    "def generate_image_rgb_df(img):\n",
    "    pixels = []\n",
    "    img_data = img.load()\n",
    "    width, height = img.size\n",
    "    \n",
    "    for y in range(height):\n",
    "        for x in range(width):\n",
    "            pixel = img_data[x, y]\n",
    "            pixels.append(pixel) \n",
    "            \n",
    "    try:\n",
    "        img_data = pd.DataFrame(pixels, columns=[\"R\", \"G\", \"B\"]) \n",
    "    except ValueError:\n",
    "        img_data = pd.DataFrame(pixels, columns=[\"R\", \"G\", \"B\", \"A\"])\n",
    "        img_data = img_data[[\"R\", \"G\", \"B\"]]\n",
    "    \n",
    "    return img_data"
   ]
  },
  {
   "cell_type": "code",
   "execution_count": 3,
   "id": "63fb5a31",
   "metadata": {},
   "outputs": [],
   "source": [
    "def load_img(filepath):\n",
    "    \"\"\"\n",
    "    Load an image and its pixel data from the specified file path.\n",
    "\n",
    "    Args:\n",
    "    - filepath (str): The file path to the image file.\n",
    "\n",
    "    Returns:\n",
    "    - img (PIL.Image.Image): The loaded image object.\n",
    "    - img_data (PixelAccess): The pixel data of the image.\n",
    "    \"\"\"\n",
    "    img = Image.open(filepath)\n",
    "    img_data = generate_image_rgb_df(img)\n",
    "    return img, img_data"
   ]
  },
  {
   "cell_type": "code",
   "execution_count": 4,
   "id": "8c6444dd",
   "metadata": {},
   "outputs": [
    {
     "name": "stdout",
     "output_type": "stream",
     "text": [
      "PNG (780, 520) RGBA\n"
     ]
    }
   ],
   "source": [
    "img, img_data = load_img(r\"C:\\Users\\kames\\mlflowtut\\Streamlit\\cols2.jpg\")\n",
    "\n",
    "\n",
    "print(img.format, img.size, img.mode)"
   ]
  },
  {
   "cell_type": "code",
   "execution_count": 5,
   "id": "93b58e16",
   "metadata": {},
   "outputs": [
    {
     "data": {
      "image/png": "[encoded data removed]",
      "text/plain": [
       "<Figure size 1200x800 with 1 Axes>"
      ]
     },
     "metadata": {},
     "output_type": "display_data"
    }
   ],
   "source": [
    "def imgshow(img, height=3, width=2):\n",
    "    \"\"\"\n",
    "    Display an image using Matplotlib within a Jupyter Notebook.\n",
    "\n",
    "    Parameters:\n",
    "    img (PIL.Image.Image): The image to display.\n",
    "    height (int, optional): Height of the displayed image. Default is 3.\n",
    "    width (int, optional): Width of the displayed image. Default is 2.\n",
    "    \"\"\"\n",
    "    plt.figure(figsize=(height, width))\n",
    "    plt.imshow(img)\n",
    "    plt.axis(\"off\")\n",
    "    plt.show()\n",
    "    \n",
    "    \n",
    "imgshow(img, 12, 8)"
   ]
  },
  {
   "cell_type": "code",
   "execution_count": 6,
   "id": "c651c4a9",
   "metadata": {},
   "outputs": [
    {
     "data": {
      "text/html": [
       "<div>\n",
       "<style scoped>\n",
       "    .dataframe tbody tr th:only-of-type {\n",
       "        vertical-align: middle;\n",
       "    }\n",
       "\n",
       "    .dataframe tbody tr th {\n",
       "        vertical-align: top;\n",
       "    }\n",
       "\n",
       "    .dataframe thead th {\n",
       "        text-align: right;\n",
       "    }\n",
       "</style>\n",
       "<table border=\"1\" class=\"dataframe\">\n",
       "  <thead>\n",
       "    <tr style=\"text-align: right;\">\n",
       "      <th></th>\n",
       "      <th>R</th>\n",
       "      <th>G</th>\n",
       "      <th>B</th>\n",
       "    </tr>\n",
       "  </thead>\n",
       "  <tbody>\n",
       "    <tr>\n",
       "      <th>0</th>\n",
       "      <td>209</td>\n",
       "      <td>17</td>\n",
       "      <td>65</td>\n",
       "    </tr>\n",
       "    <tr>\n",
       "      <th>1</th>\n",
       "      <td>209</td>\n",
       "      <td>17</td>\n",
       "      <td>65</td>\n",
       "    </tr>\n",
       "    <tr>\n",
       "      <th>2</th>\n",
       "      <td>209</td>\n",
       "      <td>17</td>\n",
       "      <td>65</td>\n",
       "    </tr>\n",
       "    <tr>\n",
       "      <th>3</th>\n",
       "      <td>209</td>\n",
       "      <td>17</td>\n",
       "      <td>65</td>\n",
       "    </tr>\n",
       "    <tr>\n",
       "      <th>4</th>\n",
       "      <td>209</td>\n",
       "      <td>17</td>\n",
       "      <td>65</td>\n",
       "    </tr>\n",
       "  </tbody>\n",
       "</table>\n",
       "</div>"
      ],
      "text/plain": [
       "     R   G   B\n",
       "0  209  17  65\n",
       "1  209  17  65\n",
       "2  209  17  65\n",
       "3  209  17  65\n",
       "4  209  17  65"
      ]
     },
     "execution_count": 6,
     "metadata": {},
     "output_type": "execute_result"
    }
   ],
   "source": [
    "img_data.head()"
   ]
  },
  {
   "cell_type": "code",
   "execution_count": 7,
   "id": "e3a89481",
   "metadata": {},
   "outputs": [],
   "source": [
    "def normalise_data(df):\n",
    "    scaler = MinMaxScaler()\n",
    "    scaled_data = scaler.fit_transform(df)\n",
    "    return scaled_data, scaler\n",
    "scaled_img_data, scaler = normalise_data(img_data)"
   ]
  },
  {
   "cell_type": "code",
   "execution_count": 8,
   "id": "ec4743d5",
   "metadata": {},
   "outputs": [
    {
     "data": {
      "text/plain": [
       "array([[0.81960784, 0.08585859, 0.17368421],\n",
       "       [0.81960784, 0.08585859, 0.17368421],\n",
       "       [0.81960784, 0.08585859, 0.17368421],\n",
       "       ...,\n",
       "       [1.        , 0.98989899, 0.02631579],\n",
       "       [1.        , 0.98989899, 0.02631579],\n",
       "       [1.        , 0.98989899, 0.02631579]])"
      ]
     },
     "execution_count": 8,
     "metadata": {},
     "output_type": "execute_result"
    }
   ],
   "source": [
    "scaled_img_data"
   ]
  },
  {
   "cell_type": "code",
   "execution_count": 9,
   "id": "806e6a07",
   "metadata": {},
   "outputs": [
    {
     "data": {
      "text/plain": [
       "array([[0.01385118, 0.87870576, 0.98387288],\n",
       "       [0.95281263, 0.60126804, 0.11082996],\n",
       "       [0.01344897, 0.89378101, 0.30030254],\n",
       "       [0.81948215, 0.08666796, 0.17371795],\n",
       "       [0.99997486, 0.98980137, 0.02631579]])"
      ]
     },
     "execution_count": 9,
     "metadata": {},
     "output_type": "execute_result"
    }
   ],
   "source": [
    "def get_cluster_centres(scaled_img_data, n_clusters):\n",
    "    kmeans = KMeans(n_clusters=n_clusters, n_init='auto')\n",
    "    kmeans.fit(scaled_img_data)\n",
    "    cluster_labels = kmeans.predict(scaled_img_data)\n",
    "    cluster_centers = kmeans.cluster_centers_\n",
    "    return cluster_centers, cluster_labels\n",
    "\n",
    "cluster_centers, cluster_labels = get_cluster_centres(scaled_img_data, 5)\n",
    "cluster_centers "
   ]
  },
  {
   "cell_type": "code",
   "execution_count": 10,
   "id": "38ded29d",
   "metadata": {},
   "outputs": [
    {
     "ename": "NameError",
     "evalue": "name 'cluster_labels' is not defined",
     "output_type": "error",
     "traceback": [
      "\u001b[1;31m---------------------------------------------------------------------\u001b[0m",
      "\u001b[1;31mNameError\u001b[0m                           Traceback (most recent call last)",
      "Cell \u001b[1;32mIn[10], line 7\u001b[0m\n\u001b[0;32m      5\u001b[0m     rev_sorted_cluster_centers \u001b[38;5;241m=\u001b[39m scaler\u001b[38;5;241m.\u001b[39minverse_transform(sorted_cluster_centers)\n\u001b[0;32m      6\u001b[0m     \u001b[38;5;28;01mreturn\u001b[39;00m rev_sorted_cluster_centers\n\u001b[1;32m----> 7\u001b[0m sorted_cluster_centers \u001b[38;5;241m=\u001b[39m \u001b[43msort_by_colour_dominance\u001b[49m\u001b[43m(\u001b[49m\u001b[43mcluster_centers\u001b[49m\u001b[43m,\u001b[49m\u001b[43m \u001b[49m\u001b[43mscaler\u001b[49m\u001b[43m)\u001b[49m\n",
      "Cell \u001b[1;32mIn[10], line 2\u001b[0m, in \u001b[0;36msort_by_colour_dominance\u001b[1;34m(cluster_centers, scaler)\u001b[0m\n\u001b[0;32m      1\u001b[0m \u001b[38;5;28;01mdef\u001b[39;00m \u001b[38;5;21msort_by_colour_dominance\u001b[39m(cluster_centers, scaler):\n\u001b[1;32m----> 2\u001b[0m     unique_labels, label_counts \u001b[38;5;241m=\u001b[39m np\u001b[38;5;241m.\u001b[39munique(\u001b[43mcluster_labels\u001b[49m, return_counts\u001b[38;5;241m=\u001b[39m\u001b[38;5;28;01mTrue\u001b[39;00m)\n\u001b[0;32m      3\u001b[0m     sorted_indices \u001b[38;5;241m=\u001b[39m np\u001b[38;5;241m.\u001b[39margsort(label_counts)[::\u001b[38;5;241m-\u001b[39m\u001b[38;5;241m1\u001b[39m]\n\u001b[0;32m      4\u001b[0m     sorted_cluster_centers \u001b[38;5;241m=\u001b[39m cluster_centers[sorted_indices]\n",
      "\u001b[1;31mNameError\u001b[0m: name 'cluster_labels' is not defined"
     ]
    }
   ],
   "source": [
    "def sort_by_colour_dominance(cluster_centers, cluster_labels, scaler):\n",
    "    unique_labels, label_counts = np.unique(cluster_labels, return_counts=True)\n",
    "    sorted_indices = np.argsort(label_counts)[::-1]\n",
    "    sorted_cluster_centers = cluster_centers[sorted_indices]\n",
    "    rev_sorted_cluster_centers = scaler.inverse_transform(sorted_cluster_centers)\n",
    "    return rev_sorted_cluster_centers\n",
    "sorted_cluster_centers = sort_by_colour_dominance(cluster_centers, cluster_labels, scaler)"
   ]
  },
  {
   "cell_type": "code",
   "execution_count": null,
   "id": "0ca62be0",
   "metadata": {},
   "outputs": [],
   "source": [
    "cluster_centers"
   ]
  },
  {
   "cell_type": "code",
   "execution_count": null,
   "id": "0cb75200",
   "metadata": {},
   "outputs": [],
   "source": [
    "def plot_centre_patches(cluster_centers):\n",
    "    fig, ax = plt.subplots(figsize=(8, 1.5))\n",
    "    num_centers = len(cluster_centers)\n",
    "    rect_width = 1.0 / num_centers\n",
    "\n",
    "    for i, cluster_center in enumerate(cluster_centers):\n",
    "        facecolor = (cluster_center[0] / 255.0, cluster_center[1] / 255.0, cluster_center[2] / 255.0)\n",
    "        rect = Rectangle((i * rect_width, 0), rect_width, 1, facecolor=facecolor)\n",
    "        ax.add_patch(rect)\n",
    "\n",
    "    ax.axis('off')\n",
    "    plt.title('Rectangles with RGB Colors', fontsize = 20)\n",
    "    plt.show()\n",
    "    \n",
    "\n",
    "plot_centre_patches(sorted_cluster_centers)"
   ]
  }
 ],
 "metadata": {
  "kernelspec": {
   "display_name": "streamlit",
   "language": "python",
   "name": "streamlit"
  },
  "language_info": {
   "codemirror_mode": {
    "name": "ipython",
    "version": 3
   },
   "file_extension": ".py",
   "mimetype": "text/x-python",
   "name": "python",
   "nbconvert_exporter": "python",
   "pygments_lexer": "ipython3",
   "version": "3.9.12"
  }
 },
 "nbformat": 4,
 "nbformat_minor": 5
}
